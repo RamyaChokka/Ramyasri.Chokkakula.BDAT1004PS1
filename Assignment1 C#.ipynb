{
 "cells": [
  {
   "cell_type": "markdown",
   "id": "bdfc7976",
   "metadata": {},
   "source": [
    "# Q1. What data type is each of the following ?\n",
    "\n",
    "5 - Integer\n",
    "\n",
    "5.0 - Float\n",
    "\n",
    "5>1 - Boolean\n",
    "\n",
    "'5' - Character\n",
    "\n",
    "5*2 - Integer \n",
    "\n",
    "'5'*2 - String\n",
    "\n",
    "'5'+'2' - String\n",
    "\n",
    "5/2 - Float\n",
    "\n",
    "5%2 - Integer\n",
    "\n",
    "{5,2,1} - Set\n",
    "\n",
    "5 == 3 - Boolean\n",
    "\n",
    "Pi(the number) - Double"
   ]
  },
  {
   "cell_type": "markdown",
   "id": "69ca8ec6",
   "metadata": {},
   "source": [
    "# Q2. Write (and evaluate) C# expressions that answer these question:\n",
    "\n",
    "# a. How many letters are there in 'Supercalifragilisticexpialidocious'?"
   ]
  },
  {
   "cell_type": "code",
   "execution_count": 30,
   "id": "721c07d5",
   "metadata": {},
   "outputs": [
    {
     "name": "stdout",
     "output_type": "stream",
     "text": [
      "Length of Supercalifragilisticexpialidociousis :34\r\n"
     ]
    }
   ],
   "source": [
    "String word1=\"Supercalifragilisticexpialidocious\";\n",
    "Console.WriteLine(\"Length of \"+word1+\"is :\"+word1.Length); \n",
    "\n"
   ]
  },
  {
   "cell_type": "markdown",
   "id": "3ca4c672",
   "metadata": {},
   "source": [
    "# b. Does 'Supercalifragilisticexpialidocious' contain 'ice' as a substring?"
   ]
  },
  {
   "cell_type": "code",
   "execution_count": 31,
   "id": "fa090465",
   "metadata": {},
   "outputs": [
    {
     "name": "stdout",
     "output_type": "stream",
     "text": [
      "Given string Supercalifragilisticexpialidocious contains ice as substring :True\r\n"
     ]
    }
   ],
   "source": [
    "Console.WriteLine(\"Given string \"+word1+\" contains ice as substring :\"+word1.Contains(\"ice\"));"
   ]
  },
  {
   "cell_type": "markdown",
   "id": "b3c95175",
   "metadata": {},
   "source": [
    "# c. Which of the following words is the longest:\n",
    "\n",
    "# Supercalifragilisticexpialidocious, Honorificabilitudinitatibus, or Bababadalgharaghtakamminarronnkonn?"
   ]
  },
  {
   "cell_type": "code",
   "execution_count": 32,
   "id": "b66a7f5d",
   "metadata": {},
   "outputs": [
    {
     "name": "stdout",
     "output_type": "stream",
     "text": [
      "The longest word among 3 words are: Supercalifragilisticexpialidocious , Bababadalgharaghtakamminarronnkonn\r\n"
     ]
    }
   ],
   "source": [
    "String word1=\"Supercalifragilisticexpialidocious\";\n",
    "String word2=\"Honorificabilitudinitatibus\";\n",
    "String word3=\"Bababadalgharaghtakamminarronnkonn\";\n",
    "if(word1.Length>word2.Length) //checks if length of word1 is greater than word2\n",
    "{\n",
    "    if(word1.Length>word3.Length)\n",
    "    {\n",
    "        Console.WriteLine(\"The longest word among 3 words is: \"+ word1); \n",
    "    }\n",
    "    else if(word1.Length==word3.Length)\n",
    "    {\n",
    "        Console.WriteLine(\"The longest word among 3 words are: \"+ word1+\" , \"+word3);\n",
    "    }\n",
    "    else\n",
    "    {\n",
    "        Console.WriteLine(\"The longest word among 3 words is: \"+ word3);\n",
    "    }\n",
    "}\n",
    "else\n",
    "{\n",
    "    Console.WriteLine(\"The longest word among 3 words is: \"+ word2);\n",
    "}\n"
   ]
  },
  {
   "cell_type": "markdown",
   "id": "c55fc237",
   "metadata": {},
   "source": [
    "# d. Which composer comes first in the dictionary:'Berlioz','Borodin','Brian','Bartok','Bellini','Buxtehude','Bernstein'.Which one comes last ?"
   ]
  },
  {
   "cell_type": "code",
   "execution_count": 29,
   "id": "8a6ef98c",
   "metadata": {},
   "outputs": [
    {
     "name": "stdout",
     "output_type": "stream",
     "text": [
      "First word is: Bartok\n",
      "Last word is: Buxtehude\n"
     ]
    }
   ],
   "source": [
    "\n",
    "String[] composer={\"Berlioz\", \"Borodin\", \"Brian\", \"Bartok\", \"Bellini\", \"Buxtehude\", \"Bernstein\"};\n",
    "Array.Sort(composer);\n",
    "Console.WriteLine(\"First word is: \"+ composer[0]); // prints the composer which comes first \n",
    "Console.WriteLine(\"Last word is: \"+ composer[composer.Length-1]);\n"
   ]
  },
  {
   "cell_type": "markdown",
   "id": "26ddd032",
   "metadata": {},
   "source": [
    "# Q3. Implement function triangleArea(a,b,c) that takes as input the lengths of the 3 sides of a triangle and returns the area of the triangle.By Heron's formula,the area of a triangle with side lengths a,b, and c is square root of s(s-a)(s-b)(s-c), where s=(a+b+c)/2."
   ]
  },
  {
   "cell_type": "code",
   "execution_count": 49,
   "id": "4a4dc13f",
   "metadata": {},
   "outputs": [
    {
     "name": "stderr",
     "output_type": "stream",
     "text": [
      "\r\n",
      "(13,17): warning CS7022: The entry point of the program is global code; ignoring 'Program.Main(string[])' entry point.\r\n",
      "\r\n"
     ]
    }
   ],
   "source": [
    "using System;\n",
    "\n",
    "    public class Program\n",
    "    {\n",
    "        public static double Triangle(int a, int b, int c)\n",
    "        {\n",
    "            double ans;\n",
    "            float s=(a+b+c)/2;\n",
    "            ans = Math.Sqrt( s * (s-a) * (s-b) * (s-c));\n",
    "            \n",
    "            return ans;\n",
    "        }\n",
    "    static void Main(string[] args)\n",
    "    {\n",
    "            double res;\n",
    "            res = Triangle(2,2,2);\n",
    "            Console.WriteLine(\"Area of triangle = {0}\",res);\n",
    "    }\n",
    "\n",
    "    \n",
    "    }\n"
   ]
  },
  {
   "cell_type": "markdown",
   "id": "1d6bfe6f",
   "metadata": {},
   "source": [
    "# Q4. Write a program in C# Sharp to seperate odd and even integers in separate arrays."
   ]
  },
  {
   "cell_type": "code",
   "execution_count": 52,
   "id": "32eb89ac",
   "metadata": {},
   "outputs": [
    {
     "name": "stderr",
     "output_type": "stream",
     "text": [
      "\r\n",
      "(4,17): warning CS7022: The entry point of the program is global code; ignoring 'Program.Main(string[])' entry point.\r\n",
      "\r\n"
     ]
    }
   ],
   "source": [
    "using System;\n",
    "public class Program\n",
    "  {\n",
    "    static void Main(string[] args)\n",
    "    { int n=0,j=0,k=0;\n",
    "    Console.WriteLine(\"Enter the number of elements in the array:\");\n",
    "    n= Convert.ToInt32(Console.ReadLine());\n",
    "    int[] arr = new int[n];\n",
    "    int[] odd = new int[n];\n",
    "    int[] even = new int[n];\n",
    "    Console.WriteLine(\"Input \"+n+\" elements in the array:\");\n",
    "\t\n",
    "     for(int i = 0;i<n;i++)\n",
    "        {\n",
    "            Console.WriteLine(\"element - \"+i);\n",
    "            arr[i]= Convert.ToInt32(Console.ReadLine());\n",
    "        }\n",
    "     \n",
    "    for(int i=0;i<n;i++)\n",
    "    {\n",
    "    if((arr[i]%2)==0)\n",
    "    {\n",
    "                even[j] = arr[i];\n",
    "                j++;\n",
    "    }\n",
    "    \n",
    "    else\n",
    "    {\n",
    "                odd[k] = arr[i];\n",
    "                k++;\n",
    "    }\n",
    "    }\n",
    "    Console.WriteLine(\"The Even elements are:\");\n",
    "    for(int i=0;i<j;i++)\n",
    "    {\n",
    "    Console.WriteLine(even[i]);\n",
    "    }\n",
    "     Console.WriteLine(\"The Odd elements are:\");\n",
    "    for(int i=0;i<k;i++)\n",
    "    {\n",
    "    Console.WriteLine(odd[i]);\n",
    "    }\n",
    "    \n",
    "    \n",
    "    }\n",
    "    \n",
    "  }\n"
   ]
  },
  {
   "cell_type": "markdown",
   "id": "6bed1408",
   "metadata": {},
   "source": [
    "# Q5.\n",
    "# a. Write a function inside(x,y,x1,y1,x2,y2) that returns True or False depending on whether the point (x,y) lies in the rectangle with lower left corner (x1,y1) and upper right corner (x2,y2).\n",
    "# b. Use function inside() from part a. to write an expression that tests weather the point (1,1) lies in both of the following rectangles: one with lower left corner (0.3,0.5) and upper right corner(1.1,0.7)and the other with lower left corner(0.5,0.2) and upper right corner(1.1,2)."
   ]
  },
  {
   "cell_type": "code",
   "execution_count": 49,
   "id": "57c14cfe",
   "metadata": {},
   "outputs": [
    {
     "name": "stdout",
     "output_type": "stream",
     "text": [
      "True\n",
      "False\n"
     ]
    }
   ],
   "source": [
    "class Rectangle\n",
    "{\n",
    "    public Boolean inside(double x,double y,double x1,double y1,double x2,double y2)\n",
    "    {\n",
    "        if(x1<x && y1<y)\n",
    "        {\n",
    "            if(x<x2 && y<y2)\n",
    "            {\n",
    "                return true;\n",
    "            }\n",
    "            else\n",
    "            {\n",
    "                return false;\n",
    "            }\n",
    "        }\n",
    "        else\n",
    "            return false;\n",
    "    }\n",
    "}\n",
    "\n",
    "Rectangle r=new Rectangle();\n",
    "Console.WriteLine(r.inside(1,1,0,0,2,3));\n",
    "Console.WriteLine(r.inside(-1,-1,0,0,2,3)); "
   ]
  },
  {
   "cell_type": "code",
   "execution_count": 50,
   "id": "61fe364f",
   "metadata": {},
   "outputs": [
    {
     "name": "stdout",
     "output_type": "stream",
     "text": [
      "False\r\n"
     ]
    }
   ],
   "source": [
    "if((r.inside(1,1,0.3,0.5,1.1,0.7)) && (r.inside(1,1,0.5,0.2,1.1,2)))\n",
    "{\n",
    "    Console.WriteLine(\"True\");\n",
    "}\n",
    "else\n",
    "{\n",
    "    Console.WriteLine(\"False\");\n",
    "}"
   ]
  },
  {
   "cell_type": "code",
   "execution_count": null,
   "id": "a636b419",
   "metadata": {},
   "outputs": [],
   "source": []
  }
 ],
 "metadata": {
  "kernelspec": {
   "display_name": ".NET (C#)",
   "language": "C#",
   "name": ".net-csharp"
  },
  "language_info": {
   "file_extension": ".cs",
   "mimetype": "text/x-csharp",
   "name": "C#",
   "pygments_lexer": "csharp",
   "version": "10.0"
  }
 },
 "nbformat": 4,
 "nbformat_minor": 5
}
