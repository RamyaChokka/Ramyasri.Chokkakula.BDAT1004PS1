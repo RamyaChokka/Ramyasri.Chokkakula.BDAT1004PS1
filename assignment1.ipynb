{
 "cells": [
  {
   "cell_type": "markdown",
   "id": "0904ea6e",
   "metadata": {},
   "source": [
    "# Q6. Write a funtion pig() that takes a word(i.e; a string) as input and returns it's pig-Latin form.Your function should still work if the input word contains upper case characters.Your output should always be lower case however."
   ]
  },
  {
   "cell_type": "code",
   "execution_count": 3,
   "id": "2af6be34",
   "metadata": {},
   "outputs": [
    {
     "name": "stdout",
     "output_type": "stream",
     "text": [
      "appyhay\n",
      "enterway\n"
     ]
    }
   ],
   "source": [
    "def pig(strr):\n",
    "    strr = str.lower(strr);\n",
    "    vowel = \"aeiou\"\n",
    "    if (strr[0] in vowel):\n",
    "        strr = strr + \"way\"\n",
    "    else:\n",
    "        temp = strr[0]\n",
    "        strr = strr[1:]\n",
    "        strr = strr + temp + \"ay\"\n",
    "    print(strr);\n",
    "pig(\"happy\")\n",
    "pig(\"enter\")\n",
    "    \n",
    "    "
   ]
  },
  {
   "cell_type": "markdown",
   "id": "a0f1cb8f",
   "metadata": {},
   "source": [
    "# Q7. File bloodtype1.txt records blood-types of patients (A,B,AB,O or OO) at a clinic.Write a function bldcount() that reads the file with name name and reports (i.e;prints) how many patients there are in each bloodtype."
   ]
  },
  {
   "cell_type": "code",
   "execution_count": 37,
   "id": "9574b583",
   "metadata": {
    "scrolled": false
   },
   "outputs": [
    {
     "name": "stdout",
     "output_type": "stream",
     "text": [
      "There are 15 patients of blood type A.\n",
      "There is one patient of blood type B.\n",
      "There are 13 patients of blood type AB.\n",
      "There are 15 patients of blood type O.\n",
      "There are no patients of blood type OO.\n"
     ]
    }
   ],
   "source": [
    "def bldcount(filename):\n",
    "    infile=open(filename, 'r')         #opens Python source code from a local file into a Python object\n",
    "    content= infile.read()\n",
    "    infile.close()\n",
    "    content=content.split()\n",
    "    bloodtype = ['A','B','AB','O','OO']\n",
    "    for i in bloodtype:\n",
    "        if content.count(i)==0:\n",
    "            print('There are no patients of blood type',i+'.')\n",
    "        elif content.count(i)==1:\n",
    "                print('There is one patient of blood type',i+'.')\n",
    "        else:print('There are',content.count(i),'patients of blood type', i+'.')\n",
    "bldcount('bloodtype.txt')\n",
    "        "
   ]
  },
  {
   "cell_type": "markdown",
   "id": "ee866af2",
   "metadata": {},
   "source": [
    "# Q8. Write a function curconv() that takes as input:\n",
    "\n",
    "# 1. a currency represented using a string (eg;'JPY' for the Japanese Yen or 'EUR' for the Euro)\n",
    "\n",
    "# 2. an amount and then converts and returns the amount in US dollars."
   ]
  },
  {
   "cell_type": "code",
   "execution_count": 39,
   "id": "9af0266f",
   "metadata": {
    "scrolled": false
   },
   "outputs": [
    {
     "name": "stdout",
     "output_type": "stream",
     "text": [
      "122.96544\n",
      "1.241401\n"
     ]
    }
   ],
   "source": [
    "def curconv(currency,amount):\n",
    "    file = open(\"currencies.txt\",\"r\")\n",
    "    fileRead = file.readlines()\n",
    "    file.close()\n",
    "    for file in fileRead :\n",
    "        group = file.split()\n",
    "        if currency == group[0]:\n",
    "            rate = float(group[1])\n",
    "            value = amount * rate\n",
    "    print(value)\n",
    "    \n",
    "curconv('EUR',100)\n",
    "curconv('JPY',100)"
   ]
  },
  {
   "cell_type": "markdown",
   "id": "c33d1ec0",
   "metadata": {},
   "source": [
    "# Q9. Each of the following will cause an exception (an error).Identify what type of exception each will cause."
   ]
  },
  {
   "cell_type": "markdown",
   "id": "75d5e9cb",
   "metadata": {},
   "source": [
    "Trying to add incomplete variable, as in adding 6 + 'a' - TypeError\n",
    "\n",
    "Referring to the 12th item of a list that has only 10 items - indexError\n",
    "\n",
    "Using a value that is out of range for a function's inout, such as calling math.sqrt(-1,0) - ValueError\n",
    "\n",
    "Trying to open a file that does not exist, such as mistyping the file name or looking in the wrong directory -FileNotFoundError\n",
    "\n"
   ]
  },
  {
   "cell_type": "markdown",
   "id": "52f6c9cc",
   "metadata": {},
   "source": [
    "# Q10. Assume that the string letters is alrready defined as 'abcdefghijklmnopqrstuvwxyz'.Write a function called frequencies() that takes a string as its only parameter, and returns a list of integers, showing the number of times each character appears in the text.Your function may ignore any characters that are not in letters."
   ]
  },
  {
   "cell_type": "code",
   "execution_count": 2,
   "id": "2479ee61",
   "metadata": {},
   "outputs": [
    {
     "name": "stdout",
     "output_type": "stream",
     "text": [
      "[1, 1, 1, 3, 5, 1, 1, 2, 1, 0, 1, 0, 1, 2, 4, 0, 1, 2, 0, 3, 1, 0, 1, 1, 0, 0]\n",
      "[1, 0, 0, 0, 1, 0, 0, 0, 0, 0, 0, 1, 0, 0, 0, 2, 0, 0, 0, 0, 0, 0, 0, 0, 0, 0]\n"
     ]
    }
   ],
   "source": [
    "def frequencies(strr):\n",
    "    letters = \"abcdefghijklmnopqrstuvwxyz\"\n",
    "    arr = [0] * 26\n",
    "    strr = strr.lower()\n",
    "    \n",
    "    for i in range(len(strr)):\n",
    "        for j in range(len(letters)):\n",
    "            if(strr[i] == letters[j]):\n",
    "                arr[j] = arr[j] + 1\n",
    "            j = j + 1\n",
    "        i = i + 1\n",
    "    print(arr)\n",
    "frequencies(\"The quick red fox got bored and went home.\")\n",
    "frequencies(\"apple\")"
   ]
  },
  {
   "cell_type": "code",
   "execution_count": null,
   "id": "b991e3b3",
   "metadata": {},
   "outputs": [],
   "source": []
  }
 ],
 "metadata": {
  "kernelspec": {
   "display_name": "Python 3 (ipykernel)",
   "language": "python",
   "name": "python3"
  },
  "language_info": {
   "codemirror_mode": {
    "name": "ipython",
    "version": 3
   },
   "file_extension": ".py",
   "mimetype": "text/x-python",
   "name": "python",
   "nbconvert_exporter": "python",
   "pygments_lexer": "ipython3",
   "version": "3.9.12"
  }
 },
 "nbformat": 4,
 "nbformat_minor": 5
}
